{
 "cells": [
  {
   "cell_type": "code",
   "execution_count": 2,
   "metadata": {},
   "outputs": [],
   "source": [
    "from boruta import BorutaPy\n",
    "from sklearn.linear_model import Ridge\n",
    "from gplearn.genetic import SymbolicTransformer \n",
    "from sklearn.ensemble import RandomForestRegressor\n",
    "from sklearn.base import BaseEstimator,TransformerMixin\n",
    "from sklearn.utils import check_random_state"
   ]
  },
  {
   "cell_type": "code",
   "execution_count": 3,
   "metadata": {},
   "outputs": [],
   "source": [
    "import pandas as pd\n",
    "import numpy as np\n",
    "import seaborn as sns\n",
    "\n",
    "train_df = pd.read_csv('train.csv.zip')\n",
    "test_df = pd.read_csv('test.csv.zip')\n",
    "\n",
    "train_df = train_df.drop(['id', 'timecc'], axis=1)\n",
    "test_df = test_df.drop(['id', 'timecc'], axis=1)"
   ]
  },
  {
   "cell_type": "code",
   "execution_count": 4,
   "metadata": {},
   "outputs": [],
   "source": [
    "# 基于sklearn BaseEstimator, 交替进行SymbolicTransformer和boruta,创建一个sklearn-compatible api\n",
    "class gpbo_transformer(BaseEstimator,TransformerMixin):\n",
    "    def __init__(self, estimater, iter, n_jobs=-1, random_state=1, verbose=1):\n",
    "        self.estimater = estimater # boruta的estimater\n",
    "        self.iter = iter  # 循环次数\n",
    "        self.n_jobs = n_jobs\n",
    "        self.random_state = random_state\n",
    "        self.verbose = verbose\n",
    "        self.gp_list = []\n",
    "        self.fs_list = []\n",
    "\n",
    "    def fit(self, X, y):\n",
    "        for i in range(self.iter):\n",
    "            # gplearn新建特征\n",
    "            gp = SymbolicTransformer(\n",
    "                                generations=20,  # 进化的代数\n",
    "                                population_size=1000, # 每一代程序的数量\n",
    "                                hall_of_fame=100, \n",
    "                                n_components=int(X.shape[-1]/2), # 最后生成的新特征\n",
    "                                function_set=[\"add\",\"sub\",\"mul\",\"div\",\"sqrt\",\"log\",\"abs\",\"neg\",\"inv\",\"max\",\"min\",\"sin\",\"cos\",\"tan\",],\n",
    "                                parsimony_coefficient=0.0005, # 惩罚系数\n",
    "                                max_samples=0.9, \n",
    "                                verbose=self.verbose,\n",
    "                                random_state=self.random_state, \n",
    "                                n_jobs=self.n_jobs\n",
    "            )\n",
    "            gp.fit(X, y)\n",
    "            X = np.hstack((X, gp.transform(X)))\n",
    "            self.gp_list.append(gp)\n",
    "            fs = BorutaPy(self.estimater, n_estimators='auto', verbose=self.verbose, random_state=self.random_state)\n",
    "            fs.fit(X, y)\n",
    "            X = fs.transform(X)\n",
    "            self.fs_list.append(fs)\n",
    "        return self\n",
    "\n",
    "    def transform(self, X):\n",
    "        for i in range(self.iter):\n",
    "            X = np.hstack((X, self.gp_list[i].transform(X)))\n",
    "            X = self.fs_list[i].transform(X)\n",
    "        return X"
   ]
  },
  {
   "cell_type": "code",
   "execution_count": 5,
   "metadata": {},
   "outputs": [],
   "source": [
    "gpbo = gpbo_transformer(RandomForestRegressor(n_jobs=-1),iter=3, n_jobs=-1, verbose=0)"
   ]
  },
  {
   "cell_type": "code",
   "execution_count": null,
   "metadata": {},
   "outputs": [],
   "source": []
  }
 ],
 "metadata": {
  "kernelspec": {
   "display_name": "env",
   "language": "python",
   "name": "python3"
  },
  "language_info": {
   "codemirror_mode": {
    "name": "ipython",
    "version": 3
   },
   "file_extension": ".py",
   "mimetype": "text/x-python",
   "name": "python",
   "nbconvert_exporter": "python",
   "pygments_lexer": "ipython3",
   "version": "3.10.12"
  }
 },
 "nbformat": 4,
 "nbformat_minor": 2
}
